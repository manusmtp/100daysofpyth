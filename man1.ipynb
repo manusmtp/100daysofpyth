{
  "nbformat": 4,
  "nbformat_minor": 0,
  "metadata": {
    "colab": {
      "provenance": [],
      "authorship_tag": "ABX9TyM+Q7aAozs4pNBLAOUCe7QT",
      "include_colab_link": true
    },
    "kernelspec": {
      "name": "python3",
      "display_name": "Python 3"
    },
    "language_info": {
      "name": "python"
    }
  },
  "cells": [
    {
      "cell_type": "markdown",
      "metadata": {
        "id": "view-in-github",
        "colab_type": "text"
      },
      "source": [
        "<a href=\"https://colab.research.google.com/github/manusmtp/100daysofpyth/blob/main/man1.ipynb\" target=\"_parent\"><img src=\"https://colab.research.google.com/assets/colab-badge.svg\" alt=\"Open In Colab\"/></a>"
      ]
    },
    {
      "cell_type": "code",
      "execution_count": 1,
      "metadata": {
        "colab": {
          "base_uri": "https://localhost:8080/",
          "height": 106
        },
        "id": "xAwZMIbtJmdT",
        "outputId": "5104b000-0836-4a3b-e953-0f0ef92df3c5"
      },
      "outputs": [
        {
          "output_type": "error",
          "ename": "SyntaxError",
          "evalue": "invalid syntax (<ipython-input-1-f8e43e54d273>, line 1)",
          "traceback": [
            "\u001b[0;36m  File \u001b[0;32m\"<ipython-input-1-f8e43e54d273>\"\u001b[0;36m, line \u001b[0;32m1\u001b[0m\n\u001b[0;31m    create a list within dict example in python\u001b[0m\n\u001b[0m           ^\u001b[0m\n\u001b[0;31mSyntaxError\u001b[0m\u001b[0;31m:\u001b[0m invalid syntax\n"
          ]
        }
      ],
      "source": [
        "create a list within dict example in python\n"
      ]
    },
    {
      "cell_type": "code",
      "source": [
        "# prompt: create python program with list within dict\n",
        "\n",
        "my_dict = {\n",
        "    \"name\": \"John Doe\",\n",
        "    \"age\": 30,\n",
        "    \"cities_visited\": [\"New York\", \"London\", \"Paris\"]\n",
        "}\n",
        "\n",
        "print(my_dict)\n",
        "print(my_dict[\"cities_visited\"])\n"
      ],
      "metadata": {
        "colab": {
          "base_uri": "https://localhost:8080/"
        },
        "id": "0-as09nRJs9d",
        "outputId": "0852beb4-6f7a-48d6-cfdc-0e8bb88c636e"
      },
      "execution_count": 2,
      "outputs": [
        {
          "output_type": "stream",
          "name": "stdout",
          "text": [
            "{'name': 'John Doe', 'age': 30, 'cities_visited': ['New York', 'London', 'Paris']}\n",
            "['New York', 'London', 'Paris']\n"
          ]
        }
      ]
    },
    {
      "cell_type": "code",
      "source": [],
      "metadata": {
        "id": "jjOvD7OLJ53L"
      },
      "execution_count": null,
      "outputs": []
    },
    {
      "cell_type": "code",
      "source": [],
      "metadata": {
        "id": "ww-mLS_SJ7dm"
      },
      "execution_count": null,
      "outputs": []
    }
  ]
}